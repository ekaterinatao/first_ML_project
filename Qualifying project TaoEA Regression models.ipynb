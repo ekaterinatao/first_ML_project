{
 "cells": [
  {
   "cell_type": "code",
   "execution_count": 1,
   "id": "45969af9",
   "metadata": {},
   "outputs": [],
   "source": [
    "import pandas as pd\n",
    "import numpy as np\n",
    "import seaborn as sns\n",
    "import scipy.stats as st\n",
    "\n",
    "from sklearn.preprocessing import MinMaxScaler\n",
    "from sklearn.model_selection import train_test_split\n",
    "from sklearn import svm, decomposition, tree\n",
    "from sklearn.linear_model import LinearRegression, LassoCV\n",
    "from sklearn.metrics import mean_squared_error, r2_score, mean_absolute_error\n",
    "from sklearn.model_selection import GridSearchCV \n",
    "from sklearn.preprocessing import PolynomialFeatures\n",
    "from sklearn.tree import DecisionTreeRegressor\n",
    "\n",
    "import tensorflow as tf\n",
    "from tensorflow import keras\n",
    "from tensorflow.keras import layers\n",
    "from tensorflow.keras import Sequential\n",
    "from tensorflow.keras.layers import Dense, Dropout\n",
    "\n",
    "import torch\n",
    "\n",
    "import pickle\n",
    "\n",
    "import warnings\n",
    "warnings.simplefilter(\"ignore\")\n",
    "import matplotlib.pyplot as plt\n",
    "%matplotlib inline"
   ]
  },
  {
   "cell_type": "code",
   "execution_count": 2,
   "id": "6e8b9eca",
   "metadata": {},
   "outputs": [
    {
     "data": {
      "text/plain": [
       "(1000, 13)"
      ]
     },
     "execution_count": 2,
     "metadata": {},
     "output_type": "execute_result"
    }
   ],
   "source": [
    "data_norm = pd.read_excel('data_norm.xlsx')\n",
    "data_norm.drop(columns=['Unnamed: 0'], axis=1, inplace=True)\n",
    "data_norm.shape"
   ]
  },
  {
   "cell_type": "markdown",
   "id": "b17880ba",
   "metadata": {},
   "source": [
    "#### Датасет с входными параметрами (выходные параметры исключены)"
   ]
  },
  {
   "cell_type": "code",
   "execution_count": 3,
   "id": "31cce70c",
   "metadata": {},
   "outputs": [
    {
     "data": {
      "text/plain": [
       "(1000, 10)"
      ]
     },
     "execution_count": 3,
     "metadata": {},
     "output_type": "execute_result"
    }
   ],
   "source": [
    "data = data_norm.drop(columns=['Модуль_упругости_при_растяжении_ГПа',\n",
    "                            'Прочность_при_растяжении_МПа',\n",
    "                            'Соотношение_матрица_наполнитель'], axis=1)\n",
    "data.shape"
   ]
  },
  {
   "cell_type": "markdown",
   "id": "d7d5e68c",
   "metadata": {},
   "source": [
    "# Линейная регрессия\n",
    "### Прогнозирование модуля упругости при растяжении"
   ]
  },
  {
   "cell_type": "code",
   "execution_count": 6,
   "id": "494eca4e",
   "metadata": {},
   "outputs": [
    {
     "data": {
      "text/plain": [
       "((700, 10), (300, 10), (700,), (300,))"
      ]
     },
     "execution_count": 6,
     "metadata": {},
     "output_type": "execute_result"
    }
   ],
   "source": [
    "y_mu = data_norm['Модуль_упругости_при_растяжении_ГПа']\n",
    "x_train_mu, x_test_mu, y_train_mu, y_test_mu = train_test_split(data, y_mu, test_size=0.3)\n",
    "x_train_mu.shape, x_test_mu.shape, y_train_mu.shape, y_test_mu.shape"
   ]
  },
  {
   "cell_type": "markdown",
   "id": "3d6a1b9d",
   "metadata": {},
   "source": [
    "#### Выбор лучших гиперпараметров модели с помощью поиска по сетке с перекрестной проверкой"
   ]
  },
  {
   "cell_type": "code",
   "execution_count": 7,
   "id": "ecb5d186",
   "metadata": {},
   "outputs": [
    {
     "name": "stdout",
     "output_type": "stream",
     "text": [
      "Лучшая модель:  LinearRegression(fit_intercept='True', positive='True')\n",
      "Coefficient of determination: -0.01\n"
     ]
    }
   ],
   "source": [
    "linear_model_mu = LinearRegression()\n",
    "param_lm = {'fit_intercept': ['True', 'False'],\n",
    "             'positive': ['True', 'False']\n",
    "             }\n",
    "GS_lm_mu = GridSearchCV(estimator=linear_model_mu, param_grid=param_lm, cv=10).fit(x_train_mu, y_train_mu)\n",
    "best_lm_mu = GS_lm_mu.best_estimator_\n",
    "print('Лучшая модель: ', best_lm_mu)\n",
    "print('Coefficient of determination: %.2f' %best_lm_mu.score(x_test_mu, y_test_mu))"
   ]
  },
  {
   "cell_type": "code",
   "execution_count": 8,
   "id": "809ff440",
   "metadata": {},
   "outputs": [
    {
     "name": "stdout",
     "output_type": "stream",
     "text": [
      "Mean squared error: 0.03\n",
      "Coefficient of determination: -0.01\n"
     ]
    }
   ],
   "source": [
    "linear_model_mu = LinearRegression(fit_intercept='True', positive='True').fit(x_train_mu, y_train_mu)\n",
    "y_pred_mu = linear_model_mu.predict(x_test_mu)\n",
    "print('Mean squared error: %.2f' % mean_squared_error(y_test_mu, y_pred_mu))\n",
    "print('Coefficient of determination: %.2f' % r2_score(y_test_mu, y_pred_mu))\n",
    "scoring_table_mu = pd.DataFrame(data=[['Линейная регрессия', mean_squared_error(y_test_mu, y_pred_mu), r2_score(y_test_mu, y_pred_mu)]],\n",
    "                                columns=['Model', 'MSE', 'R2'])"
   ]
  },
  {
   "cell_type": "markdown",
   "id": "4e1dcbe0",
   "metadata": {},
   "source": [
    "### Прогнозирование прочности при растяжении"
   ]
  },
  {
   "cell_type": "code",
   "execution_count": 10,
   "id": "35196665",
   "metadata": {},
   "outputs": [
    {
     "data": {
      "text/plain": [
       "((700, 10), (300, 10), (700,), (300,))"
      ]
     },
     "execution_count": 10,
     "metadata": {},
     "output_type": "execute_result"
    }
   ],
   "source": [
    "y_pr = data_norm['Прочность_при_растяжении_МПа']\n",
    "x_train_pr, x_test_pr, y_train_pr, y_test_pr = train_test_split(data, y_pr, test_size=0.3)\n",
    "x_train_pr.shape, x_test_pr.shape, y_train_pr.shape, y_test_pr.shape"
   ]
  },
  {
   "cell_type": "markdown",
   "id": "c0257174",
   "metadata": {},
   "source": [
    "#### Выбор лучших гиперпараметров модели с помощью поиска по сетке с перекрестной проверкой"
   ]
  },
  {
   "cell_type": "code",
   "execution_count": 11,
   "id": "1bb9cfa3",
   "metadata": {},
   "outputs": [
    {
     "name": "stdout",
     "output_type": "stream",
     "text": [
      "Лучшая модель:  LinearRegression(fit_intercept='True', positive='True')\n",
      "Coefficient of determination: -0.00\n"
     ]
    }
   ],
   "source": [
    "linear_model_pr = LinearRegression()\n",
    "param_lm = {'fit_intercept': ['True', 'False'],\n",
    "             'positive': ['True', 'False']\n",
    "             }\n",
    "GS_lm_pr = GridSearchCV(estimator=linear_model_pr, param_grid=param_lm, cv=10).fit(x_train_pr, y_train_pr)\n",
    "best_lm_pr = GS_lm_pr.best_estimator_\n",
    "print('Лучшая модель: ', best_lm_pr)\n",
    "print('Coefficient of determination: %.2f' %best_lm_pr.score(x_test_pr, y_test_pr))"
   ]
  },
  {
   "cell_type": "code",
   "execution_count": 12,
   "id": "5f31af44",
   "metadata": {},
   "outputs": [
    {
     "name": "stdout",
     "output_type": "stream",
     "text": [
      "Mean squared error: 0.03\n",
      "Coefficient of determination: -0.00\n"
     ]
    }
   ],
   "source": [
    "linear_model_pr = LinearRegression(fit_intercept='True', positive='True').fit(x_train_pr, y_train_pr)\n",
    "y_pred_pr = linear_model_pr.predict(x_test_pr)\n",
    "print('Mean squared error: %.2f' % mean_squared_error(y_test_pr, y_pred_pr))\n",
    "print('Coefficient of determination: %.2f' % r2_score(y_test_pr, y_pred_pr))\n",
    "scoring_table_pr = pd.DataFrame(data=[['Линейная регрессия', mean_squared_error(y_test_pr, y_pred_pr), r2_score(y_test_pr, y_pred_pr)]],\n",
    "                                columns=['Model', 'MSE', 'R2'])"
   ]
  },
  {
   "cell_type": "markdown",
   "id": "283556e9",
   "metadata": {},
   "source": [
    "### Визуализация на примере модели с 1 параметром"
   ]
  },
  {
   "cell_type": "code",
   "execution_count": 13,
   "id": "4800c1b9",
   "metadata": {},
   "outputs": [
    {
     "name": "stdout",
     "output_type": "stream",
     "text": [
      "Mean squared error: 0.03\n",
      "Coefficient of determination: -0.00\n"
     ]
    },
    {
     "data": {
      "text/plain": [
       "(0.0, 1.0)"
      ]
     },
     "execution_count": 13,
     "metadata": {},
     "output_type": "execute_result"
    },
    {
     "data": {
      "image/png": "[encoded data removed]",
      "text/plain": [
       "<Figure size 432x288 with 1 Axes>"
      ]
     },
     "metadata": {
      "needs_background": "light"
     },
     "output_type": "display_data"
    }
   ],
   "source": [
    "data1 = data_norm[['Поверхностная_плотность_г_м2', 'Модуль_упругости_при_растяжении_ГПа']]\n",
    "sorted_data1 = data1.sort_values(by='Поверхностная_плотность_г_м2')\n",
    "\n",
    "X = np.array(sorted_data1['Поверхностная_плотность_г_м2']).reshape(-1, 1) \n",
    "y = np.array(sorted_data1['Модуль_упругости_при_растяжении_ГПа'])\n",
    "\n",
    "x_train, x_test, y_train, y_test = train_test_split(X, y, test_size=0.3)\n",
    "\n",
    "regr = LinearRegression(fit_intercept='True', positive='True').fit(x_train, y_train)\n",
    "y_pred = regr.predict(x_test)\n",
    "    \n",
    "print('Mean squared error: %.2f' % mean_squared_error(y_test, y_pred))\n",
    "print('Coefficient of determination: %.2f' % r2_score(y_test, y_pred))\n",
    "\n",
    "fig, ax = plt.subplots()\n",
    "ax.plot(X, y, label=\"Real function\")\n",
    "ax.plot(x_test, y_pred, label=\"Prediction\")\n",
    "ax.legend()\n",
    "ax.set_xlabel(\"$x$- поверхностная плотность\")\n",
    "ax.set_ylabel(\"$f(x)$- модуль упругости при растяжении\")\n",
    "ax.set_ylim(0, 1)"
   ]
  },
  {
   "cell_type": "markdown",
   "id": "b9f37b88",
   "metadata": {},
   "source": [
    "### Линейная модель по 1 параметру с преобразованием данных в виде многочлена"
   ]
  },
  {
   "cell_type": "code",
   "execution_count": 14,
   "id": "55f3e641",
   "metadata": {},
   "outputs": [
    {
     "name": "stdout",
     "output_type": "stream",
     "text": [
      "Degree: 2\n",
      "Mean squared error: 0.03\n",
      "Coefficient of determination: -0.02\n",
      "Degree: 5\n",
      "Mean squared error: 0.03\n",
      "Coefficient of determination: -0.03\n",
      "Degree: 10\n",
      "Mean squared error: 0.03\n",
      "Coefficient of determination: -0.03\n"
     ]
    },
    {
     "data": {
      "image/png": "[encoded data removed]",
      "text/plain": [
       "<Figure size 1152x288 with 3 Axes>"
      ]
     },
     "metadata": {
      "needs_background": "light"
     },
     "output_type": "display_data"
    }
   ],
   "source": [
    "data1 = data_norm[['Поверхностная_плотность_г_м2', 'Модуль_упругости_при_растяжении_ГПа']]\n",
    "sorted_data1 = data1.sort_values(by='Поверхностная_плотность_г_м2')\n",
    "\n",
    "X = np.array(sorted_data1['Поверхностная_плотность_г_м2']).reshape(-1, 1) \n",
    "y = np.array(sorted_data1['Модуль_упругости_при_растяжении_ГПа'])\n",
    "\n",
    "x_train, x_test, y_train, y_test = train_test_split(X, y, test_size=0.3)\n",
    "fig, axs = plt.subplots(figsize=(16, 4), ncols=3)\n",
    "for i, degree in enumerate([2, 5, 10]):\n",
    "    X_objects = PolynomialFeatures(degree, include_bias=False).fit_transform(x_train)\n",
    "    x = PolynomialFeatures(degree, include_bias=False).fit_transform(x_test)\n",
    "    regr = LinearRegression().fit(X_objects, y_train)\n",
    "    y_pred = regr.predict(x)\n",
    "    \n",
    "    print('Degree: %d' % degree)\n",
    "    print('Mean squared error: %.2f' % mean_squared_error(y_test, y_pred))\n",
    "    print('Coefficient of determination: %.2f' % r2_score(y_test, y_pred))\n",
    "   \n",
    "    axs[i].plot(X, y, label=\"Real function\")\n",
    "    axs[i].plot(x_test, y_pred, label=\"Prediction\")\n",
    "    if i == 0:\n",
    "        axs[i].legend()\n",
    "    axs[i].set_title(\"Degree = %d\" % degree)\n",
    "    axs[i].set_xlabel(\"$x$- поверхностная плотность\")\n",
    "    axs[i].set_ylabel(\"$f(x)$- модуль упругости при растяжении\")\n",
    "    axs[i].set_ylim(0, 1)"
   ]
  },
  {
   "cell_type": "markdown",
   "id": "5c4ac325",
   "metadata": {},
   "source": [
    "### Линейная модель по всем параметрам с преобразованием данных в виде многочлена\n",
    "#### Прогноз модуля упругости при растяжении"
   ]
  },
  {
   "cell_type": "code",
   "execution_count": 15,
   "id": "335c7f4d",
   "metadata": {},
   "outputs": [
    {
     "name": "stdout",
     "output_type": "stream",
     "text": [
      "Mean squared error: 0.03\n",
      "Coefficient of determination: -0.01\n"
     ]
    }
   ],
   "source": [
    "X_poly_mu = PolynomialFeatures(2).fit_transform(x_train_mu)\n",
    "x_poly_mu = PolynomialFeatures(2).fit_transform(x_test_mu)\n",
    "\n",
    "linear_model_mu_Poly = LinearRegression(fit_intercept='True', positive='True').fit(X_poly_mu, y_train_mu)\n",
    "y_pred_mu_Poly = linear_model_mu_Poly.predict(x_poly_mu)\n",
    "print('Mean squared error: %.2f' % mean_squared_error(y_test_mu, y_pred_mu_Poly))\n",
    "print('Coefficient of determination: %.2f' % r2_score(y_test_mu, y_pred_mu_Poly))\n",
    "scoring_table_mu = scoring_table_mu.append({'Model': 'Линейная регрессия с полиномом^2',\n",
    "                                            'MSE': mean_squared_error(y_test_mu, y_pred_mu_Poly),\n",
    "                                            'R2': r2_score(y_test_mu, y_pred_mu_Poly)}, ignore_index=True)"
   ]
  },
  {
   "cell_type": "markdown",
   "id": "f6e9966f",
   "metadata": {},
   "source": [
    "#### Прогноз прочности при растяжении"
   ]
  },
  {
   "cell_type": "code",
   "execution_count": 17,
   "id": "db70c2d6",
   "metadata": {},
   "outputs": [
    {
     "name": "stdout",
     "output_type": "stream",
     "text": [
      "Mean squared error: 0.03\n",
      "Coefficient of determination: 0.00\n"
     ]
    }
   ],
   "source": [
    "X_poly_pr = PolynomialFeatures(2).fit_transform(x_train_pr)\n",
    "x_poly_pr = PolynomialFeatures(2).fit_transform(x_test_pr)\n",
    "\n",
    "linear_model_pr_Poly = LinearRegression(fit_intercept='True', positive='True').fit(X_poly_pr, y_train_pr)\n",
    "y_pred_pr_Poly = linear_model_pr_Poly.predict(x_poly_pr)\n",
    "print('Mean squared error: %.2f' % mean_squared_error(y_test_pr, y_pred_pr_Poly))\n",
    "print('Coefficient of determination: %.2f' % r2_score(y_test_pr, y_pred_pr_Poly))\n",
    "scoring_table_pr = scoring_table_pr.append({'Model': 'Линейная регрессия с полиномом^2',\n",
    "                                            'MSE': mean_squared_error(y_test_pr, y_pred_pr_Poly),\n",
    "                                            'R2': r2_score(y_test_pr, y_pred_pr_Poly)}, ignore_index=True)"
   ]
  },
  {
   "cell_type": "markdown",
   "id": "9c16fb53",
   "metadata": {},
   "source": [
    "### Линейная модель по всем параметрам с преобразованием данных в виде многочлена, учитывается только взаимодействие признаков\n",
    "#### Прогноз модуля упругости при растяжении"
   ]
  },
  {
   "cell_type": "code",
   "execution_count": 18,
   "id": "939437e8",
   "metadata": {},
   "outputs": [
    {
     "name": "stdout",
     "output_type": "stream",
     "text": [
      "Mean squared error: 0.03\n",
      "Coefficient of determination: -0.01\n"
     ]
    }
   ],
   "source": [
    "X_interact_mu = PolynomialFeatures(2, interaction_only=True).fit_transform(x_train_mu)\n",
    "x_interact_mu = PolynomialFeatures(2, interaction_only=True).fit_transform(x_test_mu)\n",
    "\n",
    "linear_model_mu_Interact = LinearRegression(fit_intercept='True', positive='True').fit(X_interact_mu, y_train_mu)\n",
    "y_pred_mu_Interact = linear_model_mu_Interact.predict(x_interact_mu)\n",
    "print('Mean squared error: %.2f' % mean_squared_error(y_test_mu, y_pred_mu_Interact))\n",
    "print('Coefficient of determination: %.2f' % r2_score(y_test_mu, y_pred_mu_Interact))\n",
    "scoring_table_mu = scoring_table_mu.append({'Model': 'Лин.регр. с полиномом^2 (только взаимодей.)',\n",
    "                                            'MSE': mean_squared_error(y_test_mu, y_pred_mu_Interact),\n",
    "                                            'R2': r2_score(y_test_mu, y_pred_mu_Interact)}, ignore_index=True)"
   ]
  },
  {
   "cell_type": "markdown",
   "id": "c73b7a7b",
   "metadata": {},
   "source": [
    "#### Прогноз прочности при растяжении"
   ]
  },
  {
   "cell_type": "code",
   "execution_count": 19,
   "id": "73def592",
   "metadata": {},
   "outputs": [
    {
     "name": "stdout",
     "output_type": "stream",
     "text": [
      "Mean squared error: 0.03\n",
      "Coefficient of determination: -0.00\n"
     ]
    }
   ],
   "source": [
    "X_interact_pr = PolynomialFeatures(2, interaction_only=True).fit_transform(x_train_pr)\n",
    "x_interact_pr = PolynomialFeatures(2, interaction_only=True).fit_transform(x_test_pr)\n",
    "\n",
    "linear_model_pr_Interact = LinearRegression(fit_intercept='True', positive='True').fit(X_interact_pr, y_train_pr)\n",
    "y_pred_pr_Interact = linear_model_pr_Interact.predict(x_interact_mu)\n",
    "print('Mean squared error: %.2f' % mean_squared_error(y_test_pr, y_pred_pr_Interact))\n",
    "print('Coefficient of determination: %.2f' % r2_score(y_test_pr, y_pred_pr_Interact))\n",
    "scoring_table_pr = scoring_table_pr.append({'Model': 'Лин.регр. с полиномом^2 (только взаимодей.)',\n",
    "                                            'MSE': mean_squared_error(y_test_pr, y_pred_pr_Interact),\n",
    "                                            'R2': r2_score(y_test_pr, y_pred_pr_Interact)}, ignore_index=True)"
   ]
  },
  {
   "cell_type": "markdown",
   "id": "c6f06d0c",
   "metadata": {},
   "source": [
    "___"
   ]
  },
  {
   "cell_type": "markdown",
   "id": "4b5c710b",
   "metadata": {},
   "source": [
    "# DecisionTreeRegressor\n",
    "### Прогнозирование модуля упругости при растяжении с подбором гиперпараметров"
   ]
  },
  {
   "cell_type": "code",
   "execution_count": 20,
   "id": "bc7aaddf",
   "metadata": {},
   "outputs": [
    {
     "name": "stdout",
     "output_type": "stream",
     "text": [
      "Лучшая модель:  DecisionTreeRegressor(ccp_alpha=0.001, criterion='absolute_error', max_depth=4,\n",
      "                      max_features='log2', min_samples_leaf=4,\n",
      "                      splitter='random')\n",
      "Coefficient of determination: -0.01\n"
     ]
    }
   ],
   "source": [
    "tree_regr_mu = DecisionTreeRegressor()\n",
    "param_tree = {'criterion': ['squared_error', 'friedman_mse', 'absolute_error', 'poisson'],\n",
    "              'splitter': ['best', 'random'],\n",
    "              'max_depth': [2, 3, 4, 5],\n",
    "              'min_samples_split': [1, 2, 3, 4],\n",
    "              'min_samples_leaf': [1, 2, 3, 4],\n",
    "              'max_features': ['auto', 'sqrt', 'log2'],\n",
    "              'ccp_alpha': [0.1, 0.01, 0.001]\n",
    "             }\n",
    "GS_tree_mu = GridSearchCV(estimator=tree_regr_mu, param_grid=param_tree, cv=10).fit(x_train_mu, y_train_mu)\n",
    "best_tree_mu = GS_tree_mu.best_estimator_\n",
    "print('Лучшая модель: ', best_tree_mu)\n",
    "print('Coefficient of determination: %.2f' %best_tree_mu.score(x_test_mu, y_test_mu))"
   ]
  },
  {
   "cell_type": "code",
   "execution_count": 36,
   "id": "2153bd33",
   "metadata": {},
   "outputs": [
    {
     "name": "stdout",
     "output_type": "stream",
     "text": [
      "Mean squared error: 0.03\n",
      "Coefficient of determination: -0.01\n"
     ]
    },
    {
     "data": {
      "text/plain": [
       "[Text(0.5, 0.5, 'absolute_error = 0.132\\nsamples = 700\\nvalue = 0.489')]"
      ]
     },
     "execution_count": 36,
     "metadata": {},
     "output_type": "execute_result"
    },
    {
     "data": {
      "image/png": "[encoded data removed]",
      "text/plain": [
       "<Figure size 432x288 with 1 Axes>"
      ]
     },
     "metadata": {
      "needs_background": "light"
     },
     "output_type": "display_data"
    }
   ],
   "source": [
    "tree_regr_mu = DecisionTreeRegressor(ccp_alpha=0.001, criterion='absolute_error', max_depth=4,\n",
    "                                      max_features='log2', min_samples_leaf=4,\n",
    "                                      splitter='random').fit(x_train_mu, y_train_mu)\n",
    "y_pred_mu = tree_regr_mu.predict(x_test_mu)\n",
    "print('Mean squared error: %.2f' % mean_squared_error(y_test_mu, y_pred_mu))\n",
    "print('Coefficient of determination: %.2f' % r2_score(y_test_mu, y_pred_mu))\n",
    "\n",
    "scoring_table_mu = scoring_table_mu.append({'Model': 'Регрессия дерева решений',\n",
    "                                            'MSE': mean_squared_error(y_test_mu, y_pred_mu),\n",
    "                                            'R2': r2_score(y_test_mu, y_pred_mu)}, ignore_index=True)\n",
    "\n",
    "tree.plot_tree(tree_regr_mu, filled = True)"
   ]
  },
  {
   "cell_type": "markdown",
   "id": "fd2edf0a",
   "metadata": {},
   "source": [
    "### Прогнозирование прочности при растяжении с подбором гиперпараметров"
   ]
  },
  {
   "cell_type": "code",
   "execution_count": 22,
   "id": "d4c33312",
   "metadata": {},
   "outputs": [
    {
     "name": "stdout",
     "output_type": "stream",
     "text": [
      "Лучшая модель:  DecisionTreeRegressor(ccp_alpha=0.001, criterion='absolute_error', max_depth=4,\n",
      "                      max_features='auto', splitter='random')\n",
      "Coefficient of determination: -0.00\n"
     ]
    }
   ],
   "source": [
    "tree_regr_pr = DecisionTreeRegressor()\n",
    "param_tree = {'criterion': ['squared_error', 'friedman_mse', 'absolute_error', 'poisson'],\n",
    "              'splitter': ['best', 'random'],\n",
    "              'max_depth': [2, 3, 4, 5],\n",
    "              'min_samples_split': [1, 2, 3, 4],\n",
    "              'min_samples_leaf': [1, 2, 3, 4],\n",
    "              'max_features': ['auto', 'sqrt', 'log2'],\n",
    "              'ccp_alpha': [0.1, 0.01, 0.001]\n",
    "             }\n",
    "GS_tree_pr = GridSearchCV(estimator=tree_regr_pr, param_grid=param_tree, cv=10).fit(x_train_pr, y_train_pr)\n",
    "best_tree_pr = GS_tree_pr.best_estimator_\n",
    "print('Лучшая модель: ', best_tree_pr)\n",
    "print('Coefficient of determination: %.2f' %best_tree_pr.score(x_test_pr, y_test_pr))"
   ]
  },
  {
   "cell_type": "code",
   "execution_count": 37,
   "id": "c429827e",
   "metadata": {},
   "outputs": [
    {
     "name": "stdout",
     "output_type": "stream",
     "text": [
      "Mean squared error: 0.03\n",
      "Coefficient of determination: -0.00\n"
     ]
    },
    {
     "data": {
      "text/plain": [
       "[Text(0.5, 0.5, 'absolute_error = 0.136\\nsamples = 700\\nvalue = 0.507')]"
      ]
     },
     "execution_count": 37,
     "metadata": {},
     "output_type": "execute_result"
    },
    {
     "data": {
      "image/png": "[encoded data removed]",
      "text/plain": [
       "<Figure size 432x288 with 1 Axes>"
      ]
     },
     "metadata": {
      "needs_background": "light"
     },
     "output_type": "display_data"
    }
   ],
   "source": [
    "tree_regr_pr = DecisionTreeRegressor(ccp_alpha=0.001, criterion='absolute_error', max_depth=4,\n",
    "                                    max_features='auto', splitter='random').fit(x_train_pr, y_train_pr)\n",
    "y_pred_pr = tree_regr_pr.predict(x_test_pr)\n",
    "print('Mean squared error: %.2f' % mean_squared_error(y_test_pr, y_pred_pr))\n",
    "print('Coefficient of determination: %.2f' % r2_score(y_test_pr, y_pred_pr))\n",
    "\n",
    "scoring_table_pr = scoring_table_pr.append({'Model': 'Регрессия дерева решений',\n",
    "                                            'MSE': mean_squared_error(y_test_pr, y_pred_pr),\n",
    "                                            'R2': r2_score(y_test_pr, y_pred_pr)}, ignore_index=True)\n",
    "\n",
    "tree.plot_tree(tree_regr_pr, filled = True)"
   ]
  },
  {
   "cell_type": "markdown",
   "id": "068f39df",
   "metadata": {},
   "source": [
    "___"
   ]
  },
  {
   "cell_type": "markdown",
   "id": "1b1473fd",
   "metadata": {},
   "source": [
    "# Регрессия лассо\n",
    "### Прогнозирование модуля упругости при растяжении¶"
   ]
  },
  {
   "cell_type": "code",
   "execution_count": 38,
   "id": "cb5c1d9c",
   "metadata": {},
   "outputs": [
    {
     "name": "stdout",
     "output_type": "stream",
     "text": [
      "Mean squared error: 0.03\n",
      "Coefficient of determination: -0.00\n"
     ]
    }
   ],
   "source": [
    "lasso_mu = LassoCV(n_alphas=100, alphas=[0.1, 1, 10], fit_intercept=True, cv=10).fit(x_train_mu, y_train_mu)\n",
    "y_pred_mu = lasso_mu.predict(x_test_mu)\n",
    "print('Mean squared error: %.2f' % mean_squared_error(y_test_mu, y_pred_mu))\n",
    "print('Coefficient of determination: %.2f' % r2_score(y_test_mu, y_pred_mu))\n",
    "\n",
    "scoring_table_mu = scoring_table_mu.append({'Model': 'Регрессия лассо',\n",
    "                                            'MSE': mean_squared_error(y_test_mu, y_pred_mu),\n",
    "                                            'R2': r2_score(y_test_mu, y_pred_mu)}, ignore_index=True)"
   ]
  },
  {
   "cell_type": "markdown",
   "id": "2dc2dcfc",
   "metadata": {},
   "source": [
    "### Прогнозирование прочности при растяжении"
   ]
  },
  {
   "cell_type": "code",
   "execution_count": 39,
   "id": "2dd5e29a",
   "metadata": {},
   "outputs": [
    {
     "name": "stdout",
     "output_type": "stream",
     "text": [
      "Mean squared error: 0.03\n",
      "Coefficient of determination: -0.00\n"
     ]
    }
   ],
   "source": [
    "lasso_pr = LassoCV(n_alphas=100, alphas=[0.1, 1, 10], fit_intercept=True, cv=10).fit(x_train_pr, y_train_pr)\n",
    "y_pred_pr = lasso_pr.predict(x_test_pr)\n",
    "print('Mean squared error: %.2f' % mean_squared_error(y_test_pr, y_pred_pr))\n",
    "print('Coefficient of determination: %.2f' % r2_score(y_test_pr, y_pred_pr))\n",
    "\n",
    "scoring_table_pr = scoring_table_pr.append({'Model': 'Регрессия лассо',\n",
    "                                            'MSE': mean_squared_error(y_test_pr, y_pred_pr),\n",
    "                                            'R2': r2_score(y_test_pr, y_pred_pr)}, ignore_index=True)"
   ]
  },
  {
   "cell_type": "markdown",
   "id": "a715f04b",
   "metadata": {},
   "source": [
    "___"
   ]
  },
  {
   "cell_type": "markdown",
   "id": "834cdc47",
   "metadata": {},
   "source": [
    "# SV-regression\n",
    "### Прогнозирование модуля упругости при растяжении с подбором гиперпараметров¶"
   ]
  },
  {
   "cell_type": "code",
   "execution_count": 26,
   "id": "9b7c6f42",
   "metadata": {},
   "outputs": [
    {
     "name": "stdout",
     "output_type": "stream",
     "text": [
      "Лучшая модель:  SVR(C=0.2, degree=2, gamma='auto', kernel='sigmoid')\n",
      "Coefficient of determination: -0.02\n"
     ]
    }
   ],
   "source": [
    "sv_regr_mu = svm.SVR()\n",
    "param_svr = {'kernel': ['linear', 'poly', 'rbf', 'sigmoid'],\n",
    "             'degree': [2, 3, 4, 5, 6],\n",
    "             'gamma': ['scale', 'auto'],\n",
    "             'C': [0.1, 0.2, 0.5, 1.0],\n",
    "             'epsilon': [0.1, 0.2]}\n",
    "GS_svr_mu = GridSearchCV(estimator=sv_regr_mu, param_grid=param_svr, cv=10).fit(x_train_mu, y_train_mu)\n",
    "best_svr_mu = GS_svr_mu.best_estimator_\n",
    "print('Лучшая модель: ', best_svr_mu)\n",
    "print('Coefficient of determination: %.2f' %best_svr_mu.score(x_test_mu, y_test_mu))"
   ]
  },
  {
   "cell_type": "code",
   "execution_count": 40,
   "id": "71396172",
   "metadata": {},
   "outputs": [
    {
     "name": "stdout",
     "output_type": "stream",
     "text": [
      "Mean squared error: 0.03\n",
      "Coefficient of determination: -0.02\n"
     ]
    }
   ],
   "source": [
    "sv_regr_mu = svm.SVR(C=0.2, degree=2, gamma='auto', kernel='sigmoid').fit(x_train_mu, y_train_mu)\n",
    "y_pred_mu = sv_regr_mu.predict(x_test_mu)\n",
    "print('Mean squared error: %.2f' % mean_squared_error(y_test_mu, y_pred_mu))\n",
    "print('Coefficient of determination: %.2f' % r2_score(y_test_mu, y_pred_mu))\n",
    "\n",
    "scoring_table_mu = scoring_table_mu.append({'Model': 'Регрессия метода опорных векторов',\n",
    "                                            'MSE': mean_squared_error(y_test_mu, y_pred_mu),\n",
    "                                            'R2': r2_score(y_test_mu, y_pred_mu)}, ignore_index=True)"
   ]
  },
  {
   "cell_type": "markdown",
   "id": "f21a6f8d",
   "metadata": {},
   "source": [
    "### Прогнозирование прочности при растяжении с подбором гиперпараметров"
   ]
  },
  {
   "cell_type": "code",
   "execution_count": 28,
   "id": "a38a1d70",
   "metadata": {},
   "outputs": [
    {
     "name": "stdout",
     "output_type": "stream",
     "text": [
      "Лучшая модель:  SVR(C=0.1, degree=2, gamma='auto', kernel='poly')\n",
      "Coefficient of determination: 0.00\n"
     ]
    }
   ],
   "source": [
    "sv_regr_pr = svm.SVR()\n",
    "param_svr = {'kernel': ['linear', 'poly', 'rbf', 'sigmoid'],\n",
    "             'degree': [2, 3, 4, 5, 6],\n",
    "             'gamma': ['scale', 'auto'],\n",
    "             'C': [0.1, 0.2, 0.5, 1.0],\n",
    "             'epsilon': [0.1, 0.2]}\n",
    "GS_svr_pr = GridSearchCV(estimator=sv_regr_pr, param_grid=param_svr, cv=10).fit(x_train_pr, y_train_pr)\n",
    "best_svr_pr = GS_svr_pr.best_estimator_\n",
    "print('Лучшая модель: ', best_svr_pr)\n",
    "print('Coefficient of determination: %.2f' %best_svr_pr.score(x_test_pr, y_test_pr))"
   ]
  },
  {
   "cell_type": "code",
   "execution_count": 43,
   "id": "36900c53",
   "metadata": {},
   "outputs": [
    {
     "name": "stdout",
     "output_type": "stream",
     "text": [
      "Mean squared error: 0.03\n",
      "Coefficient of determination: 0.00\n"
     ]
    }
   ],
   "source": [
    "sv_regr_pr = svm.SVR(C=0.1, degree=2, gamma='auto', kernel='poly').fit(x_train_pr, y_train_pr)\n",
    "y_pred_pr = sv_regr_pr.predict(x_test_pr)\n",
    "print('Mean squared error: %.2f' % mean_squared_error(y_test_pr, y_pred_pr))\n",
    "print('Coefficient of determination: %.2f' % r2_score(y_test_pr, y_pred_pr))\n",
    "\n",
    "scoring_table_pr = scoring_table_pr.append({'Model': 'Регрессия метода опорных векторов',\n",
    "                                            'MSE': mean_squared_error(y_test_pr, y_pred_pr),\n",
    "                                            'R2': r2_score(y_test_pr, y_pred_pr)}, ignore_index=True)"
   ]
  },
  {
   "cell_type": "markdown",
   "id": "ca84c136",
   "metadata": {},
   "source": [
    "___"
   ]
  },
  {
   "cell_type": "markdown",
   "id": "567436df",
   "metadata": {},
   "source": [
    "# Метрики построенных моделей\n",
    "### Прогнозирование модуля упругости при растяжении"
   ]
  },
  {
   "cell_type": "code",
   "execution_count": 41,
   "id": "57705e51",
   "metadata": {},
   "outputs": [
    {
     "data": {
      "text/html": [
       "<div>\n",
       "<style scoped>\n",
       "    .dataframe tbody tr th:only-of-type {\n",
       "        vertical-align: middle;\n",
       "    }\n",
       "\n",
       "    .dataframe tbody tr th {\n",
       "        vertical-align: top;\n",
       "    }\n",
       "\n",
       "    .dataframe thead th {\n",
       "        text-align: right;\n",
       "    }\n",
       "</style>\n",
       "<table border=\"1\" class=\"dataframe\">\n",
       "  <thead>\n",
       "    <tr style=\"text-align: right;\">\n",
       "      <th></th>\n",
       "      <th>Model</th>\n",
       "      <th>MSE</th>\n",
       "      <th>R2</th>\n",
       "    </tr>\n",
       "  </thead>\n",
       "  <tbody>\n",
       "    <tr>\n",
       "      <th>0</th>\n",
       "      <td>Линейная регрессия</td>\n",
       "      <td>0.030016</td>\n",
       "      <td>-0.013819</td>\n",
       "    </tr>\n",
       "    <tr>\n",
       "      <th>1</th>\n",
       "      <td>Линейная регрессия с полиномом^2</td>\n",
       "      <td>0.030005</td>\n",
       "      <td>-0.013459</td>\n",
       "    </tr>\n",
       "    <tr>\n",
       "      <th>2</th>\n",
       "      <td>Лин.регр. с полиномом^2 (только взаимодей.)</td>\n",
       "      <td>0.029983</td>\n",
       "      <td>-0.012703</td>\n",
       "    </tr>\n",
       "    <tr>\n",
       "      <th>3</th>\n",
       "      <td>Регрессия дерева решений</td>\n",
       "      <td>0.029865</td>\n",
       "      <td>-0.008703</td>\n",
       "    </tr>\n",
       "    <tr>\n",
       "      <th>4</th>\n",
       "      <td>Регрессия лассо</td>\n",
       "      <td>0.029718</td>\n",
       "      <td>-0.003750</td>\n",
       "    </tr>\n",
       "    <tr>\n",
       "      <th>5</th>\n",
       "      <td>Регрессия метода опорных векторов</td>\n",
       "      <td>0.030227</td>\n",
       "      <td>-0.020952</td>\n",
       "    </tr>\n",
       "  </tbody>\n",
       "</table>\n",
       "</div>"
      ],
      "text/plain": [
       "                                         Model       MSE        R2\n",
       "0                           Линейная регрессия  0.030016 -0.013819\n",
       "1             Линейная регрессия с полиномом^2  0.030005 -0.013459\n",
       "2  Лин.регр. с полиномом^2 (только взаимодей.)  0.029983 -0.012703\n",
       "3                     Регрессия дерева решений  0.029865 -0.008703\n",
       "4                              Регрессия лассо  0.029718 -0.003750\n",
       "5            Регрессия метода опорных векторов  0.030227 -0.020952"
      ]
     },
     "execution_count": 41,
     "metadata": {},
     "output_type": "execute_result"
    }
   ],
   "source": [
    "scoring_table_mu"
   ]
  },
  {
   "cell_type": "markdown",
   "id": "7beb4ffd",
   "metadata": {},
   "source": [
    "### Прогнозирование прочности при растяжении"
   ]
  },
  {
   "cell_type": "code",
   "execution_count": 44,
   "id": "3ceced55",
   "metadata": {},
   "outputs": [
    {
     "data": {
      "text/html": [
       "<div>\n",
       "<style scoped>\n",
       "    .dataframe tbody tr th:only-of-type {\n",
       "        vertical-align: middle;\n",
       "    }\n",
       "\n",
       "    .dataframe tbody tr th {\n",
       "        vertical-align: top;\n",
       "    }\n",
       "\n",
       "    .dataframe thead th {\n",
       "        text-align: right;\n",
       "    }\n",
       "</style>\n",
       "<table border=\"1\" class=\"dataframe\">\n",
       "  <thead>\n",
       "    <tr style=\"text-align: right;\">\n",
       "      <th></th>\n",
       "      <th>Model</th>\n",
       "      <th>MSE</th>\n",
       "      <th>R2</th>\n",
       "    </tr>\n",
       "  </thead>\n",
       "  <tbody>\n",
       "    <tr>\n",
       "      <th>0</th>\n",
       "      <td>Линейная регрессия</td>\n",
       "      <td>0.028917</td>\n",
       "      <td>-0.001463</td>\n",
       "    </tr>\n",
       "    <tr>\n",
       "      <th>1</th>\n",
       "      <td>Линейная регрессия с полиномом^2</td>\n",
       "      <td>0.028852</td>\n",
       "      <td>0.000808</td>\n",
       "    </tr>\n",
       "    <tr>\n",
       "      <th>2</th>\n",
       "      <td>Лин.регр. с полиномом^2 (только взаимодей.)</td>\n",
       "      <td>0.028930</td>\n",
       "      <td>-0.001904</td>\n",
       "    </tr>\n",
       "    <tr>\n",
       "      <th>3</th>\n",
       "      <td>Регрессия дерева решений</td>\n",
       "      <td>0.028876</td>\n",
       "      <td>-0.000038</td>\n",
       "    </tr>\n",
       "    <tr>\n",
       "      <th>4</th>\n",
       "      <td>Регрессия лассо</td>\n",
       "      <td>0.028883</td>\n",
       "      <td>-0.000290</td>\n",
       "    </tr>\n",
       "    <tr>\n",
       "      <th>5</th>\n",
       "      <td>Регрессия метода опорных векторов</td>\n",
       "      <td>0.028749</td>\n",
       "      <td>0.004371</td>\n",
       "    </tr>\n",
       "  </tbody>\n",
       "</table>\n",
       "</div>"
      ],
      "text/plain": [
       "                                         Model       MSE        R2\n",
       "0                           Линейная регрессия  0.028917 -0.001463\n",
       "1             Линейная регрессия с полиномом^2  0.028852  0.000808\n",
       "2  Лин.регр. с полиномом^2 (только взаимодей.)  0.028930 -0.001904\n",
       "3                     Регрессия дерева решений  0.028876 -0.000038\n",
       "4                              Регрессия лассо  0.028883 -0.000290\n",
       "5            Регрессия метода опорных векторов  0.028749  0.004371"
      ]
     },
     "execution_count": 44,
     "metadata": {},
     "output_type": "execute_result"
    }
   ],
   "source": [
    "scoring_table_pr"
   ]
  },
  {
   "cell_type": "markdown",
   "id": "416c7899",
   "metadata": {},
   "source": [
    "___"
   ]
  },
  {
   "cell_type": "markdown",
   "id": "fedc4573",
   "metadata": {},
   "source": [
    "Поскольку все модели неудовлетворительного качества, сохраняем повледнюю в качестве примера для разработки приложения"
   ]
  },
  {
   "cell_type": "code",
   "execution_count": 32,
   "id": "11773c81",
   "metadata": {},
   "outputs": [],
   "source": [
    "pickle.dump(sv_regr_mu, open('model_svr.pkl', 'wb'))"
   ]
  }
 ],
 "metadata": {
  "kernelspec": {
   "display_name": "Python 3 (ipykernel)",
   "language": "python",
   "name": "python3"
  },
  "language_info": {
   "codemirror_mode": {
    "name": "ipython",
    "version": 3
   },
   "file_extension": ".py",
   "mimetype": "text/x-python",
   "name": "python",
   "nbconvert_exporter": "python",
   "pygments_lexer": "ipython3",
   "version": "3.9.12"
  }
 },
 "nbformat": 4,
 "nbformat_minor": 5
}
